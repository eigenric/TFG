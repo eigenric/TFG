{
 "cells": [
  {
   "cell_type": "code",
   "execution_count": 2,
   "id": "dd8023e5-b25a-44ea-9d68-c3691137a084",
   "metadata": {},
   "outputs": [
    {
     "ename": "ImportError",
     "evalue": "cannot import name 'SaitsImputer' from 'pypots.imputation' (/Users/eigenric/.local/share/virtualenvs/TFG--n4J6ECg/lib/python3.11/site-packages/pypots/imputation/__init__.py)",
     "output_type": "error",
     "traceback": [
      "\u001b[0;31m---------------------------------------------------------------------------\u001b[0m",
      "\u001b[0;31mImportError\u001b[0m                               Traceback (most recent call last)",
      "Cell \u001b[0;32mIn[2], line 3\u001b[0m\n\u001b[1;32m      1\u001b[0m \u001b[38;5;28;01mimport\u001b[39;00m\u001b[38;5;250m \u001b[39m\u001b[38;5;21;01mnumpy\u001b[39;00m\u001b[38;5;250m \u001b[39m\u001b[38;5;28;01mas\u001b[39;00m\u001b[38;5;250m \u001b[39m\u001b[38;5;21;01mnp\u001b[39;00m\n\u001b[1;32m      2\u001b[0m \u001b[38;5;28;01mimport\u001b[39;00m\u001b[38;5;250m \u001b[39m\u001b[38;5;21;01mpandas\u001b[39;00m\u001b[38;5;250m \u001b[39m\u001b[38;5;28;01mas\u001b[39;00m\u001b[38;5;250m \u001b[39m\u001b[38;5;21;01mpd\u001b[39;00m\n\u001b[0;32m----> 3\u001b[0m \u001b[38;5;28;01mfrom\u001b[39;00m\u001b[38;5;250m \u001b[39m\u001b[38;5;21;01mpypots\u001b[39;00m\u001b[38;5;21;01m.\u001b[39;00m\u001b[38;5;21;01mimputation\u001b[39;00m\u001b[38;5;250m \u001b[39m\u001b[38;5;28;01mimport\u001b[39;00m SaitsImputer\n\u001b[1;32m      4\u001b[0m \u001b[38;5;28;01mfrom\u001b[39;00m\u001b[38;5;250m \u001b[39m\u001b[38;5;21;01mpypots\u001b[39;00m\u001b[38;5;21;01m.\u001b[39;00m\u001b[38;5;21;01mutils\u001b[39;00m\u001b[38;5;21;01m.\u001b[39;00m\u001b[38;5;21;01mmetrics\u001b[39;00m\u001b[38;5;250m \u001b[39m\u001b[38;5;28;01mimport\u001b[39;00m calc_mae\n\u001b[1;32m      6\u001b[0m \u001b[38;5;66;03m# Crear datos de ejemplo con NaNs (simulando datos de series temporales)\u001b[39;00m\n",
      "\u001b[0;31mImportError\u001b[0m: cannot import name 'SaitsImputer' from 'pypots.imputation' (/Users/eigenric/.local/share/virtualenvs/TFG--n4J6ECg/lib/python3.11/site-packages/pypots/imputation/__init__.py)"
     ]
    }
   ],
   "source": [
    "import numpy as np\n",
    "import pandas as pd\n",
    "from pypots.imputation import SaitsImputer\n",
    "from pypots.utils.metrics import calc_mae\n",
    "\n",
    "# Crear datos de ejemplo con NaNs (simulando datos de series temporales)\n",
    "data = {\n",
    "    'feature1': [1, 2, np.nan, 4, 5],\n",
    "    'feature2': [5, np.nan, 7, 8, 9],\n",
    "    'feature3': [10, 11, 12, 13, 14]\n",
    "}\n",
    "\n",
    "df = pd.DataFrame(data)\n",
    "\n",
    "# Convertir los datos a un formato adecuado para pypots (array numpy)\n",
    "X = df.values\n",
    "\n",
    "# Usar un imputador de pypots (SaitsImputer en este caso)\n",
    "imputer = SaitsImputer()\n",
    "\n",
    "# Ajustar el imputador a los datos (esto calculará los valores de imputación)\n",
    "imputer.fit(X)\n",
    "\n",
    "# Imputar los valores faltantes en los datos de entrada\n",
    "X_imputed = imputer.transform(X)\n",
    "\n",
    "# Mostrar los datos imputados\n",
    "print(\"Datos imputados:\")\n",
    "print(X_imputed)\n",
    "\n",
    "# Si deseas evaluar la calidad de la imputación con el MAE (Mean Absolute Error),\n",
    "# puedes hacerlo comparando con los valores originales y la máscara de NaNs.\n",
    "\n",
    "# Crear una máscara para los valores faltantes\n",
    "mask = np.isnan(X).astype(int)\n",
    "\n",
    "# Calcular el MAE entre los valores imputados y los valores originales\n",
    "mae = calc_m\n"
   ]
  }
 ],
 "metadata": {
  "kernelspec": {
   "display_name": "Python 3 (ipykernel)",
   "language": "python",
   "name": "python3"
  },
  "language_info": {
   "codemirror_mode": {
    "name": "ipython",
    "version": 3
   },
   "file_extension": ".py",
   "mimetype": "text/x-python",
   "name": "python",
   "nbconvert_exporter": "python",
   "pygments_lexer": "ipython3",
   "version": "3.11.6"
  }
 },
 "nbformat": 4,
 "nbformat_minor": 5
}
