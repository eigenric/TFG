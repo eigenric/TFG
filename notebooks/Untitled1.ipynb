{
 "cells": [
  {
   "cell_type": "markdown",
   "id": "995193a6-771f-4ed2-a3a8-5eeac4f42e85",
   "metadata": {},
   "source": [
    "## Tutorial Básico de Python"
   ]
  },
  {
   "cell_type": "code",
   "execution_count": 3,
   "id": "c26b0385-f4da-4b52-86e9-9491b995abc7",
   "metadata": {},
   "outputs": [],
   "source": [
    "def suma(x: int, y: int) -> int:\n",
    "    \"\"\"Esta función suma dos números\"\"\"\n",
    "    return x+y"
   ]
  },
  {
   "cell_type": "code",
   "execution_count": 2,
   "id": "3b1aab25-f69a-40c4-9e09-b95a9aeffed0",
   "metadata": {},
   "outputs": [
    {
     "data": {
      "text/plain": [
       "3"
      ]
     },
     "execution_count": 2,
     "metadata": {},
     "output_type": "execute_result"
    }
   ],
   "source": [
    "suma(1,2)"
   ]
  },
  {
   "cell_type": "code",
   "execution_count": 6,
   "id": "d6ae037d-088e-4d7e-9d22-2069e8d30b83",
   "metadata": {},
   "outputs": [],
   "source": [
    "class Persona:\n",
    "    def __init__(self, nombre: str):\n",
    "        self.nombre = nombre\n",
    "    def hablar(self, msg: str):\n",
    "        print(f\"La persona {self.nombre} ha dicho: {msg}\")\n",
    "        "
   ]
  },
  {
   "cell_type": "code",
   "execution_count": 10,
   "id": "f9803235-283a-4c74-84b7-94c23df1a8be",
   "metadata": {},
   "outputs": [
    {
     "name": "stdout",
     "output_type": "stream",
     "text": [
      "La persona Ricardo ha dicho: Desconozco como funciona el método fit\n"
     ]
    },
    {
     "data": {
      "text/plain": [
       "'Ricardo'"
      ]
     },
     "execution_count": 10,
     "metadata": {},
     "output_type": "execute_result"
    }
   ],
   "source": [
    "ricardo = Persona(\"Ricardo\")\n",
    "ricardo.hablar(\"Desconozco como funciona el método fit\")\n",
    "ricardo.nombre"
   ]
  },
  {
   "cell_type": "code",
   "execution_count": 11,
   "id": "6f21e3bc-1c3d-4ed1-b17f-024b4ff14d04",
   "metadata": {},
   "outputs": [],
   "source": [
    "traduccion = {\n",
    "    \"Inglés\": \"English\",\n",
    "    \"Español\": \"Spanish\",\n",
    "    \"Manzana\": \"Apple\"\n",
    "}"
   ]
  },
  {
   "cell_type": "code",
   "execution_count": 13,
   "id": "f40c560a-8bc0-47c9-b026-e6a8e2bab58b",
   "metadata": {},
   "outputs": [
    {
     "data": {
      "text/plain": [
       "'English'"
      ]
     },
     "execution_count": 13,
     "metadata": {},
     "output_type": "execute_result"
    }
   ],
   "source": [
    "traduccion[\"Inglés\"]"
   ]
  },
  {
   "cell_type": "code",
   "execution_count": 17,
   "id": "c5c46f56-a21e-4ac4-a390-5ccafd287918",
   "metadata": {},
   "outputs": [
    {
     "name": "stdout",
     "output_type": "stream",
     "text": [
      "tensor([[-0.2227,  0.5585, -0.1602, -0.7815,  1.4375,  0.3548,  0.5361,  0.2303,\n",
      "         -0.1692,  1.3722]])\n",
      "tensor([[ 0.1856,  0.1732,  0.0615,  1.9697, -0.9463]], grad_fn=<MulBackward0>)\n",
      "tensor([[ 0.0928,  0.0866,  0.0308,  0.9849, -0.4732]],\n",
      "       grad_fn=<AddmmBackward0>)\n"
     ]
    }
   ],
   "source": [
    "import torch\n",
    "import torch.nn as nn\n",
    "import torch.optim as optim\n",
    "\n",
    "# Definir un modelo simple\n",
    "class SimpleModel(nn.Module):\n",
    "    def __init__(self):\n",
    "        super(SimpleModel, self).__init__()\n",
    "        self.fc1 = nn.Linear(10, 5)\n",
    "        self.dropout = nn.Dropout(p=0.5)  # Dropout del 50%\n",
    "\n",
    "    def forward(self, x):\n",
    "        return self.dropout(self.fc1(x))\n",
    "\n",
    "model = SimpleModel()\n",
    "x = torch.randn(1, 10)\n",
    "print(x)\n",
    "\n",
    "model.train()\n",
    "print(model(x))  # Dropout está activado (algunos valores pueden ser 0)\n",
    "\n",
    "model.eval()\n",
    "print(model(x))  # Dropout está desactivado (la salida es estable)"
   ]
  },
  {
   "cell_type": "code",
   "execution_count": null,
   "id": "54f7b4fe-9ffc-4e54-beb4-1baeeeaadab5",
   "metadata": {},
   "outputs": [],
   "source": []
  }
 ],
 "metadata": {
  "kernelspec": {
   "display_name": "Python 3 (ipykernel)",
   "language": "python",
   "name": "python3"
  },
  "language_info": {
   "codemirror_mode": {
    "name": "ipython",
    "version": 3
   },
   "file_extension": ".py",
   "mimetype": "text/x-python",
   "name": "python",
   "nbconvert_exporter": "python",
   "pygments_lexer": "ipython3",
   "version": "3.11.6"
  }
 },
 "nbformat": 4,
 "nbformat_minor": 5
}
