{
 "cells": [
  {
   "cell_type": "code",
   "execution_count": 1,
   "id": "ccbe6ecc-6e4d-4f85-8613-ba99b7b0e832",
   "metadata": {},
   "outputs": [],
   "source": [
    "import pandas as pd"
   ]
  },
  {
   "cell_type": "code",
   "execution_count": 3,
   "id": "9620e727-b66f-43ed-adc1-6bfcd16322b4",
   "metadata": {},
   "outputs": [],
   "source": [
    "df = pd.read_csv(\"BD_POQUEIRA_CLAS_TFG_RICARDO.csv\")"
   ]
  },
  {
   "cell_type": "code",
   "execution_count": 5,
   "id": "224357d6-95bb-456a-8434-f8e5b18996cf",
   "metadata": {},
   "outputs": [
    {
     "data": {
      "text/plain": [
       "Index(['num_plate_ID', 'total_time_POQ', 'total_distance', 'total_holiday',\n",
       "       'total_workday', 'total_high_season', 'total_low_season',\n",
       "       'entry_in_high_season', 'entry_in_holiday', 'nights',\n",
       "       'visits_dif_weeks', 'visits_dif_months', 'total_entries',\n",
       "       'avg_visit_POQ', 'std_visit_POQ', 'avg_nights', 'std_nights',\n",
       "       'avg_holiday', 'std_holiday', 'avg_workday', 'std_workday',\n",
       "       'avg_high_season', 'std_high_season', 'avg_low_season',\n",
       "       'std_low_season', 'postcode', 'co2_emissions', 'num_seats',\n",
       "       'max_num_seats', 'country', 'town', 'km_to_POQ', 'population',\n",
       "       'avg_gross_income', 'avg_disposable_income', 'autonomous_community',\n",
       "       'province', 'actual_entry_east', 'actual_entry_hour_morning',\n",
       "       'actual_entry_hour_afternoon', 'actual_entry_hour_night',\n",
       "       'actual_entry_hour_dawn', 'actual_entry_in_holiday',\n",
       "       'actual_entry_in_high_season', 'actual_nights', 'actual_visit_time',\n",
       "       'actual_distance'],\n",
       "      dtype='object')"
      ]
     },
     "execution_count": 5,
     "metadata": {},
     "output_type": "execute_result"
    }
   ],
   "source": [
    "df.columns"
   ]
  },
  {
   "cell_type": "code",
   "execution_count": 3,
   "id": "0828edff-624e-44bf-ae8a-011475a890f7",
   "metadata": {
    "tags": []
   },
   "outputs": [
    {
     "ename": "ModuleNotFoundError",
     "evalue": "No module named 'mitosheet'",
     "output_type": "error",
     "traceback": [
      "\u001b[0;31m---------------------------------------------------------------------------\u001b[0m",
      "\u001b[0;31mModuleNotFoundError\u001b[0m                       Traceback (most recent call last)",
      "Cell \u001b[0;32mIn[3], line 1\u001b[0m\n\u001b[0;32m----> 1\u001b[0m \u001b[38;5;28;01mimport\u001b[39;00m \u001b[38;5;21;01mmitosheet\u001b[39;00m\n",
      "\u001b[0;31mModuleNotFoundError\u001b[0m: No module named 'mitosheet'"
     ]
    }
   ],
   "source": [
    "import mitosheet"
   ]
  }
 ],
 "metadata": {
  "kernelspec": {
   "display_name": "Python 3 (ipykernel)",
   "language": "python",
   "name": "python3"
  },
  "language_info": {
   "codemirror_mode": {
    "name": "ipython",
    "version": 3
   },
   "file_extension": ".py",
   "mimetype": "text/x-python",
   "name": "python",
   "nbconvert_exporter": "python",
   "pygments_lexer": "ipython3",
   "version": "3.11.9"
  }
 },
 "nbformat": 4,
 "nbformat_minor": 5
}
